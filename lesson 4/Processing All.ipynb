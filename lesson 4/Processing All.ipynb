{
 "cells": [
  {
   "cell_type": "code",
   "execution_count": 168,
   "metadata": {},
   "outputs": [],
   "source": [
    "#!/usr/bin/env python\n",
    "# -*- coding: utf-8 -*-\n",
    "\"\"\"\n",
    "Let's assume that you combined the code from the previous 2 exercises with code\n",
    "from the lesson on how to build requests, and downloaded all the data locally.\n",
    "The files are in a directory \"data\", named after the carrier and airport:\n",
    "\"{}-{}.html\".format(carrier, airport), for example \"FL-ATL.html\".\n",
    "\n",
    "The table with flight info has a table class=\"dataTDRight\". Your task is to\n",
    "use 'process_file()' to extract the flight data from that table as a list of\n",
    "dictionaries, each dictionary containing relevant data from the file and table\n",
    "row. This is an example of the data structure you should return:\n",
    "\n",
    "data = [{\"courier\": \"FL\",\n",
    "         \"airport\": \"ATL\",\n",
    "         \"year\": 2012,\n",
    "         \"month\": 12,\n",
    "         \"flights\": {\"domestic\": 100,\n",
    "                     \"international\": 100}\n",
    "        },\n",
    "         {\"courier\": \"...\"}\n",
    "]\n",
    "\n",
    "Note - year, month, and the flight data should be integers.\n",
    "You should skip the rows that contain the TOTAL data for a year.\n",
    "\n",
    "There are couple of helper functions to deal with the data files.\n",
    "Please do not change them for grading purposes.\n",
    "All your changes should be in the 'process_file()' function.\n",
    "\n",
    "The 'data/FL-ATL.html' file in the tab above is only a part of the full data,\n",
    "covering data through 2003. The test() code will be run on the full table, but\n",
    "the given file should provide an example of what you will get.\n",
    "\"\"\"\n",
    "from bs4 import BeautifulSoup\n",
    "from zipfile import ZipFile\n",
    "import os"
   ]
  },
  {
   "cell_type": "code",
   "execution_count": 169,
   "metadata": {},
   "outputs": [],
   "source": [
    "datadir = \"data\""
   ]
  },
  {
   "cell_type": "code",
   "execution_count": 170,
   "metadata": {},
   "outputs": [],
   "source": [
    "def open_zip(datadir):\n",
    "    with ZipFile('{0}.zip'.format(datadir), 'r') as myzip:\n",
    "        myzip.extractall()"
   ]
  },
  {
   "cell_type": "code",
   "execution_count": 171,
   "metadata": {},
   "outputs": [],
   "source": [
    "open_zip(datadir)"
   ]
  },
  {
   "cell_type": "code",
   "execution_count": 172,
   "metadata": {},
   "outputs": [],
   "source": [
    "def process_all(datadir):\n",
    "    files = os.listdir(datadir)\n",
    "    return files"
   ]
  },
  {
   "cell_type": "code",
   "execution_count": 173,
   "metadata": {},
   "outputs": [],
   "source": [
    "open_zip(datadir)\n",
    "data = []\n",
    "\n",
    "# Test will loop over three data files.\n",
    "with open(\"{}/{}\".format(datadir, f), \"r\") as html:\n",
    "    soup = BeautifulSoup(html)\n",
    "    \n",
    "\n",
    "    for row in soup.find(\"table\", attrs={\"class\": \"dataTDRight\"}).find_all(\"tr\",attrs = {\"dataTDRight\"}):\n",
    "        info = {}\n",
    "        info[\"courier\"], info[\"airport\"] = f[:6].split(\"-\")\n",
    "        row1 = row.find_all(\"td\")\n",
    "\n",
    "        if row1[1].text != \"TOTAL\":\n",
    "            info[\"year\"] = int(row1[0].text)\n",
    "            info[\"month\"] = int(row1[1].text)\n",
    "            info[\"flights\"] = {\"domestic\": int(row1[2].text.replace(\",\",\"\")),\n",
    "                         \"international\": int(row1[3].text.replace(\",\",\"\"))}\n",
    "            data.append(info)\n",
    "            #print(info)\n",
    "            \n",
    "\n"
   ]
  },
  {
   "cell_type": "code",
   "execution_count": 174,
   "metadata": {},
   "outputs": [
    {
     "data": {
      "text/plain": [
       "[{'courier': 'FL',\n",
       "  'airport': 'ATL',\n",
       "  'year': 2002,\n",
       "  'month': 10,\n",
       "  'flights': {'domestic': 815489, 'international': 92565}},\n",
       " {'courier': 'FL',\n",
       "  'airport': 'ATL',\n",
       "  'year': 2002,\n",
       "  'month': 11,\n",
       "  'flights': {'domestic': 766775, 'international': 91342}},\n",
       " {'courier': 'FL',\n",
       "  'airport': 'ATL',\n",
       "  'year': 2002,\n",
       "  'month': 12,\n",
       "  'flights': {'domestic': 782175, 'international': 96881}},\n",
       " {'courier': 'FL',\n",
       "  'airport': 'ATL',\n",
       "  'year': 2003,\n",
       "  'month': 1,\n",
       "  'flights': {'domestic': 785651, 'international': 98053}},\n",
       " {'courier': 'FL',\n",
       "  'airport': 'ATL',\n",
       "  'year': 2003,\n",
       "  'month': 2,\n",
       "  'flights': {'domestic': 690750, 'international': 85965}},\n",
       " {'courier': 'FL',\n",
       "  'airport': 'ATL',\n",
       "  'year': 2003,\n",
       "  'month': 3,\n",
       "  'flights': {'domestic': 797634, 'international': 97929}},\n",
       " {'courier': 'FL',\n",
       "  'airport': 'ATL',\n",
       "  'year': 2003,\n",
       "  'month': 4,\n",
       "  'flights': {'domestic': 766639, 'international': 89398}},\n",
       " {'courier': 'FL',\n",
       "  'airport': 'ATL',\n",
       "  'year': 2003,\n",
       "  'month': 5,\n",
       "  'flights': {'domestic': 789857, 'international': 87671}},\n",
       " {'courier': 'FL',\n",
       "  'airport': 'ATL',\n",
       "  'year': 2003,\n",
       "  'month': 6,\n",
       "  'flights': {'domestic': 798841, 'international': 95435}},\n",
       " {'courier': 'FL',\n",
       "  'airport': 'ATL',\n",
       "  'year': 2003,\n",
       "  'month': 7,\n",
       "  'flights': {'domestic': 832075, 'international': 102795}},\n",
       " {'courier': 'FL',\n",
       "  'airport': 'ATL',\n",
       "  'year': 2003,\n",
       "  'month': 8,\n",
       "  'flights': {'domestic': 831185, 'international': 102145}},\n",
       " {'courier': 'FL',\n",
       "  'airport': 'ATL',\n",
       "  'year': 2003,\n",
       "  'month': 9,\n",
       "  'flights': {'domestic': 782264, 'international': 90681}},\n",
       " {'courier': 'FL',\n",
       "  'airport': 'ATL',\n",
       "  'year': 2003,\n",
       "  'month': 10,\n",
       "  'flights': {'domestic': 818777, 'international': 91820}},\n",
       " {'courier': 'FL',\n",
       "  'airport': 'ATL',\n",
       "  'year': 2003,\n",
       "  'month': 11,\n",
       "  'flights': {'domestic': 766266, 'international': 91004}},\n",
       " {'courier': 'FL',\n",
       "  'airport': 'ATL',\n",
       "  'year': 2003,\n",
       "  'month': 12,\n",
       "  'flights': {'domestic': 798879, 'international': 97094}}]"
      ]
     },
     "execution_count": 174,
     "metadata": {},
     "output_type": "execute_result"
    }
   ],
   "source": [
    "data"
   ]
  },
  {
   "cell_type": "code",
   "execution_count": 175,
   "metadata": {},
   "outputs": [
    {
     "data": {
      "text/plain": [
       "['FL-ATL.html']"
      ]
     },
     "execution_count": 175,
     "metadata": {},
     "output_type": "execute_result"
    }
   ],
   "source": [
    "process_all(datadir)"
   ]
  },
  {
   "cell_type": "code",
   "execution_count": 176,
   "metadata": {},
   "outputs": [],
   "source": [
    "def process_file(f):\n",
    "    \"\"\"\n",
    "    This function extracts data from the file given as the function argument in\n",
    "    a list of dictionaries. This is example of the data structure you should\n",
    "    return:\n",
    "\n",
    "    data = [{\"courier\": \"FL\",\n",
    "             \"airport\": \"ATL\",\n",
    "             \"year\": 2012,\n",
    "             \"month\": 12,\n",
    "             \"flights\": {\"domestic\": 100,\n",
    "                         \"international\": 100}\n",
    "            },\n",
    "            {\"courier\": \"...\"}\n",
    "    ]\n",
    "\n",
    "\n",
    "    Note - year, month, and the flight data should be integers.\n",
    "    You should skip the rows that contain the TOTAL data for a year.\n",
    "    \"\"\"\n",
    "    data = []\n",
    "    info = {\"courier\": None,\n",
    "             \"airport\": None,\n",
    "             \"year\": None,\n",
    "             \"month\": None,\n",
    "             \"flights\": {\"domestic\": None,\n",
    "                         \"international\": None}\n",
    "            }\n",
    "\n",
    "    info[\"courier\"], info[\"airport\"] = f[:6].split(\"-\")\n",
    "    \n",
    "    # Note: create a new dictionary for each entry in the output data list.\n",
    "    # If you use the info dictionary defined here each element in the list \n",
    "    # will be a reference to the same info dictionary.\n",
    "    with open(\"{}/{}\".format(datadir, f), \"r\") as html:\n",
    "        soup = BeautifulSoup(html)\n",
    "        for row in soup.find(\"table\", attrs={\"class\": \"dataTDRight\"}).find_all(\"tr\",attrs = {\"dataTDRight\"}):\n",
    "            info = {}\n",
    "            info[\"courier\"], info[\"airport\"] = f[:6].split(\"-\")\n",
    "            row1 = row.find_all(\"td\")\n",
    "\n",
    "            if row1[1].text != \"TOTAL\":\n",
    "                info[\"year\"] = int(row1[0].text)\n",
    "                info[\"month\"] = int(row1[1].text)\n",
    "                info[\"flights\"] = {\"domestic\": int(row1[2].text.replace(\",\",\"\")),\n",
    "                             \"international\": int(row1[3].text.replace(\",\",\"\"))}\n",
    "                data.append(info)\n",
    "\n",
    "    return data"
   ]
  },
  {
   "cell_type": "code",
   "execution_count": 177,
   "metadata": {},
   "outputs": [],
   "source": [
    "open_zip(datadir)\n",
    "data = []\n",
    "info = {}\n",
    "# Test will loop over three data files.\n",
    "for f in files:\n",
    "    info[\"courier\"], info[\"airport\"] = f[:6].split(\"-\")\n",
    "    \n"
   ]
  },
  {
   "cell_type": "code",
   "execution_count": 178,
   "metadata": {},
   "outputs": [
    {
     "data": {
      "text/plain": [
       "['FL', 'ATL']"
      ]
     },
     "execution_count": 178,
     "metadata": {},
     "output_type": "execute_result"
    }
   ],
   "source": [
    "f[:6].split(\"-\")"
   ]
  },
  {
   "cell_type": "code",
   "execution_count": 179,
   "metadata": {},
   "outputs": [],
   "source": [
    "def test():\n",
    "    print(\"Running a simple test...\")\n",
    "    open_zip(datadir)\n",
    "    files = process_all(datadir)\n",
    "    data = []\n",
    "    # Test will loop over three data files.\n",
    "    for f in files:\n",
    "        data += process_file(f)\n",
    "        \n",
    "    #assert len(data) == 399  # Total number of rows\n",
    "    for entry in data[:3]:\n",
    "        assert type(entry[\"year\"]) == int\n",
    "        assert type(entry[\"month\"]) == int\n",
    "        assert type(entry[\"flights\"][\"domestic\"]) == int\n",
    "        assert len(entry[\"airport\"]) == 3\n",
    "        assert len(entry[\"courier\"]) == 2\n",
    "    assert data[0][\"courier\"] == 'FL'\n",
    "    assert data[0][\"month\"] == 10\n",
    "    assert data[-1][\"airport\"] == \"ATL\"\n",
    "    \n",
    "    print(\"... success!\")"
   ]
  },
  {
   "cell_type": "code",
   "execution_count": 180,
   "metadata": {},
   "outputs": [
    {
     "name": "stdout",
     "output_type": "stream",
     "text": [
      "Running a simple test...\n",
      "... success!\n"
     ]
    }
   ],
   "source": [
    "if __name__ == \"__main__\":\n",
    "    test()"
   ]
  }
 ],
 "metadata": {
  "kernelspec": {
   "display_name": "Python 3",
   "language": "python",
   "name": "python3"
  },
  "language_info": {
   "codemirror_mode": {
    "name": "ipython",
    "version": 3
   },
   "file_extension": ".py",
   "mimetype": "text/x-python",
   "name": "python",
   "nbconvert_exporter": "python",
   "pygments_lexer": "ipython3",
   "version": "3.8.3"
  }
 },
 "nbformat": 4,
 "nbformat_minor": 4
}
