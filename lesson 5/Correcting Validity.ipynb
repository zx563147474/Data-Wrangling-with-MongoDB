{
 "cells": [
  {
   "cell_type": "code",
   "execution_count": 1,
   "metadata": {},
   "outputs": [],
   "source": [
    "\"\"\"\n",
    "Your task is to check the \"productionStartYear\" of the DBPedia autos datafile for valid values.\n",
    "The following things should be done:\n",
    "- check if the field \"productionStartYear\" contains a year\n",
    "- check if the year is in range 1886-2014\n",
    "- convert the value of the field to be just a year (not full datetime)\n",
    "- the rest of the fields and values should stay the same\n",
    "- if the value of the field is a valid year in the range as described above,\n",
    "  write that line to the output_good file\n",
    "- if the value of the field is not a valid year as described above, \n",
    "  write that line to the output_bad file\n",
    "- discard rows (neither write to good nor bad) if the URI is not from dbpedia.org\n",
    "- you should use the provided way of reading and writing data (DictReader and DictWriter)\n",
    "  They will take care of dealing with the header.\n",
    "\n",
    "You can write helper functions for checking the data and writing the files, but we will call only the \n",
    "'process_file' with 3 arguments (inputfile, output_good, output_bad).\n",
    "\"\"\"\n",
    "import sys\n",
    "import csv\n",
    "import pprint"
   ]
  },
  {
   "cell_type": "code",
   "execution_count": 2,
   "metadata": {},
   "outputs": [
    {
     "name": "stdout",
     "output_type": "stream",
     "text": [
      "Pretty printing has been turned OFF\n"
     ]
    }
   ],
   "source": [
    "%pprint"
   ]
  },
  {
   "cell_type": "code",
   "execution_count": 3,
   "metadata": {},
   "outputs": [],
   "source": [
    "INPUT_FILE = 'autos.csv'\n",
    "OUTPUT_GOOD = 'autos-valid.csv'\n",
    "OUTPUT_BAD = 'FIXME-autos.csv'"
   ]
  },
  {
   "cell_type": "code",
   "execution_count": 5,
   "metadata": {},
   "outputs": [],
   "source": [
    "with open(INPUT_FILE, \"r\",encoding='windows-1252') as f, open(OUTPUT_GOOD,'w') as og, open(OUTPUT_BAD, 'w') as ob:\n",
    "    reader = csv.DictReader(f)\n",
    "    header = reader.fieldnames\n",
    "    \n",
    "    goodWriter = csv.DictWriter(og, delimiter = ',', fieldnames = header)\n",
    "    goodWriter.writeheader()\n",
    "\n",
    "    badWriter = csv.DictWriter(ob, delimiter = ',', fieldnames = header)\n",
    "    badWriter.writeheader()\n",
    "    \n",
    "    for row in reader:\n",
    "        if row['URI'].find('dbpedia.org') != -1:\n",
    "            try:\n",
    "                row['productionStartYear'] = int(row['productionStartYear'][:4])\n",
    "                if row['productionStartYear'] in range(1886,2015):\n",
    "                    goodWriter.writerow(row)\n",
    "                else:\n",
    "                    badWriter.writerow(row)\n",
    "            except ValueError:\n",
    "                badWriter.writerow(row)\n"
   ]
  },
  {
   "cell_type": "code",
   "execution_count": 6,
   "metadata": {},
   "outputs": [
    {
     "data": {
      "text/plain": [
       "'utf-8'"
      ]
     },
     "execution_count": 6,
     "metadata": {},
     "output_type": "execute_result"
    }
   ],
   "source": [
    "sys.getdefaultencoding()"
   ]
  },
  {
   "cell_type": "code",
   "execution_count": 10,
   "metadata": {},
   "outputs": [],
   "source": [
    "def process_file(input_file, output_good, output_bad):\n",
    "\n",
    "    with open(input_file, \"r\",encoding='windows-1252') as f, open(output_good,'w') as og, open(output_bad, 'w') as ob:\n",
    "        reader = csv.DictReader(f)\n",
    "        header = reader.fieldnames\n",
    "\n",
    "        goodWriter = csv.DictWriter(og, delimiter = ',', fieldnames = header)\n",
    "        goodWriter.writeheader()\n",
    "\n",
    "        badWriter = csv.DictWriter(ob, delimiter = ',', fieldnames = header)\n",
    "        badWriter.writeheader()\n",
    "\n",
    "        for row in reader:\n",
    "            if row['URI'].find('dbpedia.org') != -1:\n",
    "                try:\n",
    "                    row['productionStartYear'] = int(row['productionStartYear'][:4])\n",
    "                    if row['productionStartYear'] in range(1886,2015):\n",
    "                        goodWriter.writerow(row)\n",
    "                    else:\n",
    "                        badWriter.writerow(row)\n",
    "                except ValueError:\n",
    "                    badWriter.writerow(row)"
   ]
  },
  {
   "cell_type": "code",
   "execution_count": 11,
   "metadata": {},
   "outputs": [],
   "source": [
    "def test():\n",
    "\n",
    "    process_file(INPUT_FILE, OUTPUT_GOOD, OUTPUT_BAD)"
   ]
  },
  {
   "cell_type": "code",
   "execution_count": 12,
   "metadata": {},
   "outputs": [],
   "source": [
    "if __name__ == \"__main__\":\n",
    "    test()"
   ]
  }
 ],
 "metadata": {
  "kernelspec": {
   "display_name": "Python 3",
   "language": "python",
   "name": "python3"
  },
  "language_info": {
   "codemirror_mode": {
    "name": "ipython",
    "version": 3
   },
   "file_extension": ".py",
   "mimetype": "text/x-python",
   "name": "python",
   "nbconvert_exporter": "python",
   "pygments_lexer": "ipython3",
   "version": "3.8.3"
  }
 },
 "nbformat": 4,
 "nbformat_minor": 4
}
