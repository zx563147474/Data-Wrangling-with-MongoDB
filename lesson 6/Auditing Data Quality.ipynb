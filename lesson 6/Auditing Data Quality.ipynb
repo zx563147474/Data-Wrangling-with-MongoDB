{
 "cells": [
  {
   "cell_type": "code",
   "execution_count": 1,
   "metadata": {},
   "outputs": [],
   "source": [
    "#!/usr/bin/env python\n",
    "# -*- coding: utf-8 -*-\n",
    "\"\"\"\n",
    "In this problem set you work with cities infobox data, audit it, come up with a\n",
    "cleaning idea and then clean it up. In the first exercise we want you to audit\n",
    "the datatypes that can be found in some particular fields in the dataset.\n",
    "The possible types of values can be:\n",
    "- NoneType if the value is a string \"NULL\" or an empty string \"\"\n",
    "- list, if the value starts with \"{\"\n",
    "- int, if the value can be cast to int\n",
    "- float, if the value can be cast to float, but CANNOT be cast to int.\n",
    "   For example, '3.23e+07' should be considered a float because it can be cast\n",
    "   as float but int('3.23e+07') will throw a ValueError\n",
    "- 'str', for all other values\n",
    "\n",
    "The audit_file function should return a dictionary containing fieldnames and a \n",
    "SET of the types that can be found in the field. e.g.\n",
    "{\"field1\": set([type(float()), type(int()), type(str())]),\n",
    " \"field2\": set([type(str())]),\n",
    "  ....\n",
    "}\n",
    "The type() function returns a type object describing the argument given to the \n",
    "function. You can also use examples of objects to create type objects, e.g.\n",
    "type(1.1) for a float: see the test function below for examples.\n",
    "\n",
    "Note that the first three rows (after the header row) in the cities.csv file\n",
    "are not actual data points. The contents of these rows should note be included\n",
    "when processing data types. Be sure to include functionality in your code to\n",
    "skip over or detect these rows.\n",
    "\"\"\"\n",
    "import codecs\n",
    "import csv\n",
    "import json\n",
    "import pprint"
   ]
  },
  {
   "cell_type": "code",
   "execution_count": 2,
   "metadata": {},
   "outputs": [],
   "source": [
    "CITIES = 'cities.csv'\n",
    "\n",
    "FIELDS = [\"name\", \"timeZone_label\", \"utcOffset\", \"homepage\", \"governmentType_label\",\n",
    "          \"isPartOf_label\", \"areaCode\", \"populationTotal\", \"elevation\",\n",
    "          \"maximumElevation\", \"minimumElevation\", \"populationDensity\",\n",
    "          \"wgs84_pos#lat\", \"wgs84_pos#long\", \"areaLand\", \"areaMetro\", \"areaUrban\"]"
   ]
  },
  {
   "cell_type": "code",
   "execution_count": 3,
   "metadata": {},
   "outputs": [],
   "source": [
    "def is_int(input):\n",
    "    try:\n",
    "        int(input)\n",
    "        return True\n",
    "    except:\n",
    "        return False\n",
    "\n",
    "def is_float(input):\n",
    "    try:\n",
    "        float(input)\n",
    "        return True\n",
    "    except:\n",
    "        return False"
   ]
  },
  {
   "cell_type": "code",
   "execution_count": 9,
   "metadata": {},
   "outputs": [],
   "source": [
    "def audit_file(filename, fields):\n",
    "    fieldtypes = {}\n",
    "    \n",
    "    for field in fields:\n",
    "        fieldtypes[field] = set()\n",
    "    \n",
    "    with open(filename, 'r') as f:\n",
    "        reader = csv.DictReader(f)\n",
    "        \n",
    "        for row in reader:\n",
    "            if row[\"URI\"].find('dbpedia') > -1:\n",
    "                for field in fields:\n",
    "                    if row[field] == 'NULL' or row[field] == \"\":\n",
    "                        fieldtypes[field].add(type(None))\n",
    "                    elif row[field][0] == '{':\n",
    "                        fieldtypes[field].add(type([]))\n",
    "                    elif is_int(row[field]):\n",
    "                        fieldtypes[field].add(type(1))\n",
    "                    elif is_float(row[field]):\n",
    "                        fieldtypes[field].add(type(1.1))\n",
    "                    else:\n",
    "                        fieldtypes[field].add(type('1.1'))\n",
    "\n",
    "    # YOUR CODE HERE\n",
    "\n",
    "\n",
    "    return fieldtypes"
   ]
  },
  {
   "cell_type": "code",
   "execution_count": 5,
   "metadata": {},
   "outputs": [
    {
     "data": {
      "text/plain": [
       "str"
      ]
     },
     "execution_count": 5,
     "metadata": {},
     "output_type": "execute_result"
    }
   ],
   "source": [
    "type('1.1')"
   ]
  },
  {
   "cell_type": "code",
   "execution_count": 14,
   "metadata": {},
   "outputs": [],
   "source": [
    "def test():\n",
    "    fieldtypes = audit_file(CITIES, FIELDS)\n",
    "\n",
    "    pprint.pprint(fieldtypes)\n",
    "\n",
    "    assert fieldtypes[\"areaLand\"] == set([type(1.1), type([]), type(None)])\n",
    "    assert fieldtypes['areaMetro'] == set([type(1.1), type([]),type(None)])"
   ]
  },
  {
   "cell_type": "code",
   "execution_count": 12,
   "metadata": {},
   "outputs": [],
   "source": [
    "fieldtypes = audit_file(CITIES, FIELDS)"
   ]
  },
  {
   "cell_type": "code",
   "execution_count": 13,
   "metadata": {},
   "outputs": [
    {
     "data": {
      "text/plain": [
       "{'name': {NoneType, list, str},\n",
       " 'timeZone_label': {NoneType, list, str},\n",
       " 'utcOffset': {NoneType, float, int, list, str},\n",
       " 'homepage': {NoneType, list, str},\n",
       " 'governmentType_label': {NoneType, list, str},\n",
       " 'isPartOf_label': {NoneType, list, str},\n",
       " 'areaCode': {NoneType, int, list, str},\n",
       " 'populationTotal': {NoneType, int, list},\n",
       " 'elevation': {NoneType, float, list},\n",
       " 'maximumElevation': {NoneType, float, list},\n",
       " 'minimumElevation': {NoneType, float},\n",
       " 'populationDensity': {NoneType, float, list},\n",
       " 'wgs84_pos#lat': {NoneType, float, list},\n",
       " 'wgs84_pos#long': {NoneType, float, list},\n",
       " 'areaLand': {NoneType, float, list},\n",
       " 'areaMetro': {NoneType, float, list},\n",
       " 'areaUrban': {NoneType, float, list}}"
      ]
     },
     "execution_count": 13,
     "metadata": {},
     "output_type": "execute_result"
    }
   ],
   "source": [
    "fieldtypes"
   ]
  },
  {
   "cell_type": "code",
   "execution_count": 15,
   "metadata": {},
   "outputs": [
    {
     "name": "stdout",
     "output_type": "stream",
     "text": [
      "{'areaCode': {<class 'list'>, <class 'int'>, <class 'NoneType'>, <class 'str'>},\n",
      " 'areaLand': {<class 'float'>, <class 'NoneType'>, <class 'list'>},\n",
      " 'areaMetro': {<class 'float'>, <class 'NoneType'>, <class 'list'>},\n",
      " 'areaUrban': {<class 'float'>, <class 'NoneType'>, <class 'list'>},\n",
      " 'elevation': {<class 'float'>, <class 'NoneType'>, <class 'list'>},\n",
      " 'governmentType_label': {<class 'list'>, <class 'NoneType'>, <class 'str'>},\n",
      " 'homepage': {<class 'list'>, <class 'NoneType'>, <class 'str'>},\n",
      " 'isPartOf_label': {<class 'str'>, <class 'NoneType'>, <class 'list'>},\n",
      " 'maximumElevation': {<class 'float'>, <class 'NoneType'>, <class 'list'>},\n",
      " 'minimumElevation': {<class 'float'>, <class 'NoneType'>},\n",
      " 'name': {<class 'list'>, <class 'NoneType'>, <class 'str'>},\n",
      " 'populationDensity': {<class 'float'>, <class 'NoneType'>, <class 'list'>},\n",
      " 'populationTotal': {<class 'int'>, <class 'NoneType'>, <class 'list'>},\n",
      " 'timeZone_label': {<class 'list'>, <class 'NoneType'>, <class 'str'>},\n",
      " 'utcOffset': {<class 'float'>,\n",
      "               <class 'list'>,\n",
      "               <class 'int'>,\n",
      "               <class 'NoneType'>,\n",
      "               <class 'str'>},\n",
      " 'wgs84_pos#lat': {<class 'float'>, <class 'NoneType'>, <class 'list'>},\n",
      " 'wgs84_pos#long': {<class 'float'>, <class 'NoneType'>, <class 'list'>}}\n"
     ]
    }
   ],
   "source": [
    "    \n",
    "if __name__ == \"__main__\":\n",
    "    test()"
   ]
  }
 ],
 "metadata": {
  "kernelspec": {
   "display_name": "Python 3",
   "language": "python",
   "name": "python3"
  },
  "language_info": {
   "codemirror_mode": {
    "name": "ipython",
    "version": 3
   },
   "file_extension": ".py",
   "mimetype": "text/x-python",
   "name": "python",
   "nbconvert_exporter": "python",
   "pygments_lexer": "ipython3",
   "version": "3.8.3"
  }
 },
 "nbformat": 4,
 "nbformat_minor": 4
}
